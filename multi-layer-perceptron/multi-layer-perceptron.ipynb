{
 "cells": [
  {
   "cell_type": "code",
   "execution_count": 12,
   "metadata": {},
   "outputs": [],
   "source": [
    "import pandas as pd\n",
    "import matplotlib.pyplot as plt\n",
    "import seaborn as sb\n",
    "import numpy as np"
   ]
  },
  {
   "cell_type": "code",
   "execution_count": 3,
   "metadata": {},
   "outputs": [],
   "source": [
    "ckd = pd.read_csv(\"/home/ijaju/Documents/datasets/ckd.csv\")"
   ]
  },
  {
   "cell_type": "code",
   "execution_count": 7,
   "metadata": {},
   "outputs": [],
   "source": [
    "class_types = ['rbc','pc','pcc','ba','htn','dm','cad','appet','pe','ane']\n",
    "for i in ckd.columns:\n",
    "    for j in class_types:\n",
    "        if i==j:\n",
    "            e = ckd[j].unique()\n",
    "            ckd[j] = np.where(ckd[j]==e[0],-1,1)"
   ]
  },
  {
   "cell_type": "code",
   "execution_count": 9,
   "metadata": {},
   "outputs": [],
   "source": [
    "X = ckd.iloc[:,0:23].values\n",
    "y = ckd.iloc[:,24].values\n",
    "\n",
    "from sklearn.model_selection import train_test_split\n",
    "X_train,X_test,y_train,y_test = train_test_split(X,y,test_size=0.33,random_state=42)"
   ]
  },
  {
   "cell_type": "code",
   "execution_count": 4,
   "metadata": {},
   "outputs": [],
   "source": [
    "from sklearn.neural_network import MLPClassifier\n",
    "clf = MLPClassifier(solver='lbfgs', alpha=1e-5,\n",
    "                    hidden_layer_sizes=(5, 2), random_state=1)"
   ]
  },
  {
   "cell_type": "code",
   "execution_count": 10,
   "metadata": {},
   "outputs": [],
   "source": [
    "clf.fit(X_train,y_train)\n",
    "y_pred = clf.predict(X_test)"
   ]
  },
  {
   "cell_type": "code",
   "execution_count": 11,
   "metadata": {},
   "outputs": [
    {
     "data": {
      "text/plain": [
       "0.8867924528301887"
      ]
     },
     "execution_count": 11,
     "metadata": {},
     "output_type": "execute_result"
    }
   ],
   "source": [
    "from sklearn.metrics import accuracy_score\n",
    "accuracy_score(y_test,y_pred)"
   ]
  },
  {
   "cell_type": "code",
   "execution_count": 41,
   "metadata": {},
   "outputs": [],
   "source": [
    "acc = []\n",
    "for i in range(1,15):\n",
    "    clf_test = MLPClassifier(solver = 'lbfgs',hidden_layer_sizes=(1,1),alpha=1e-5,random_state=1,max_iter=i)\n",
    "    clf_test.fit(X_train,y_train)\n",
    "    y_pred_ = clf_test.predict(X_test)\n",
    "    acc.append(1-(accuracy_score(y_test,y_pred_)))"
   ]
  },
  {
   "cell_type": "code",
   "execution_count": 45,
   "metadata": {},
   "outputs": [
    {
     "data": {
      "image/png": "[encoded data removed]",
      "text/plain": [
       "<Figure size 432x288 with 1 Axes>"
      ]
     },
     "metadata": {},
     "output_type": "display_data"
    }
   ],
   "source": [
    "i = range(1,15)\n",
    "plt.plot(i,acc)\n",
    "plt.xlabel(\"Epochs\")\n",
    "plt.ylabel(\"Errors %\")\n",
    "plt.show()"
   ]
  },
  {
   "cell_type": "code",
   "execution_count": 50,
   "metadata": {},
   "outputs": [
    {
     "name": "stdout",
     "output_type": "stream",
     "text": [
      "For no_of_layers= 1 accuracy =  0.8867924528301887\n",
      "For no_of_layers= 2 accuracy =  0.8867924528301887\n",
      "For no_of_layers= 3 accuracy =  0.8867924528301887\n",
      "For no_of_layers= 4 accuracy =  0.8867924528301887\n"
     ]
    }
   ],
   "source": [
    "for i in range(1,5):\n",
    "    clf_test = MLPClassifier(solver = 'lbfgs',hidden_layer_sizes=(i,1),alpha=1e-5,random_state=1)\n",
    "    clf_test.fit(X_train,y_train)\n",
    "    y_pred_ = clf_test.predict(X_test)\n",
    "    print(\"For no_of_layers=\",i,\"accuracy = \",(accuracy_score(y_test,y_pred_)))"
   ]
  },
  {
   "cell_type": "code",
   "execution_count": null,
   "metadata": {},
   "outputs": [],
   "source": []
  }
 ],
 "metadata": {
  "kernelspec": {
   "display_name": "Python 2",
   "language": "python",
   "name": "python2"
  },
  "language_info": {
   "codemirror_mode": {
    "name": "ipython",
    "version": 3
   },
   "file_extension": ".py",
   "mimetype": "text/x-python",
   "name": "python",
   "nbconvert_exporter": "python",
   "pygments_lexer": "ipython3",
   "version": "3.5.2"
  }
 },
 "nbformat": 4,
 "nbformat_minor": 2
}
