{
 "cells": [
  {
   "cell_type": "code",
   "execution_count": 1,
   "metadata": {},
   "outputs": [
    {
     "name": "stderr",
     "output_type": "stream",
     "text": [
      "/home/ijaju/.local/lib/python3.5/site-packages/nibabel/testing/__init__.py:21: DeprecationWarning: Importing from numpy.testing.decorators is deprecated, import from numpy.testing instead.\n",
      "  from numpy.testing.decorators import skipif\n",
      "/usr/local/lib/python3.5/dist-packages/sklearn/ensemble/weight_boosting.py:29: DeprecationWarning: numpy.core.umath_tests is an internal NumPy module and should not be imported. It will be removed in a future NumPy release.\n",
      "  from numpy.core.umath_tests import inner1d\n",
      "/home/ijaju/.local/lib/python3.5/site-packages/mvpa2/datasets/sources/skl_data.py:32: DeprecationWarning: inspect.getargspec() is deprecated, use inspect.signature() instead\n",
      "  argnames, varargs, varkw, defaults = inspect.getargspec(fx)\n"
     ]
    }
   ],
   "source": [
    "import pandas as pd\n",
    "import seaborn as sb\n",
    "import matplotlib.pyplot as plt\n",
    "import numpy as np\n",
    "from sklearn.model_selection import train_test_split\n",
    "from sklearn.cluster import KMeans\n",
    "from sklearn.metrics import accuracy_score\n",
    "from mvpa2.suite import *"
   ]
  },
  {
   "cell_type": "code",
   "execution_count": 2,
   "metadata": {},
   "outputs": [
    {
     "name": "stderr",
     "output_type": "stream",
     "text": [
      "/home/ijaju/.local/lib/python3.5/site-packages/IPython/core/interactiveshell.py:2785: DtypeWarning: Columns (7,9,1427,1542,1561,1575) have mixed types. Specify dtype option on import or set low_memory=False.\n",
      "  interactivity=interactivity, compiler=compiler, result=result)\n"
     ]
    },
    {
     "data": {
      "text/html": [
       "<div>\n",
       "<style scoped>\n",
       "    .dataframe tbody tr th:only-of-type {\n",
       "        vertical-align: middle;\n",
       "    }\n",
       "\n",
       "    .dataframe tbody tr th {\n",
       "        vertical-align: top;\n",
       "    }\n",
       "\n",
       "    .dataframe thead th {\n",
       "        text-align: right;\n",
       "    }\n",
       "</style>\n",
       "<table border=\"1\" class=\"dataframe\">\n",
       "  <thead>\n",
       "    <tr style=\"text-align: right;\">\n",
       "      <th></th>\n",
       "      <th>UNITID</th>\n",
       "      <th>OPEID</th>\n",
       "      <th>opeid6</th>\n",
       "      <th>INSTNM</th>\n",
       "      <th>CITY</th>\n",
       "      <th>STABBR</th>\n",
       "      <th>ZIP</th>\n",
       "      <th>AccredAgency</th>\n",
       "      <th>INSTURL</th>\n",
       "      <th>NPCURL</th>\n",
       "      <th>...</th>\n",
       "      <th>COMPL_RPY_3YR_RT_SUPP</th>\n",
       "      <th>NONCOM_RPY_3YR_RT_SUPP</th>\n",
       "      <th>DEP_RPY_3YR_RT_SUPP</th>\n",
       "      <th>IND_RPY_3YR_RT_SUPP</th>\n",
       "      <th>PELL_RPY_3YR_RT_SUPP</th>\n",
       "      <th>NOPELL_RPY_3YR_RT_SUPP</th>\n",
       "      <th>FEMALE_RPY_3YR_RT_SUPP</th>\n",
       "      <th>MALE_RPY_3YR_RT_SUPP</th>\n",
       "      <th>FIRSTGEN_RPY_3YR_RT_SUPP</th>\n",
       "      <th>NOTFIRSTGEN_RPY_3YR_RT_SUPP</th>\n",
       "    </tr>\n",
       "  </thead>\n",
       "  <tbody>\n",
       "    <tr>\n",
       "      <th>7799</th>\n",
       "      <td>48285703</td>\n",
       "      <td>157107</td>\n",
       "      <td>1571</td>\n",
       "      <td>Georgia Military College-Columbus Campus</td>\n",
       "      <td>Columbus</td>\n",
       "      <td>GA</td>\n",
       "      <td>31909</td>\n",
       "      <td>NaN</td>\n",
       "      <td>http://columbus.gmc.cc.ga.us/</td>\n",
       "      <td>NaN</td>\n",
       "      <td>...</td>\n",
       "      <td>0.586956522</td>\n",
       "      <td>0.473891273</td>\n",
       "      <td>0.482781027</td>\n",
       "      <td>0.478442281</td>\n",
       "      <td>0.42789148</td>\n",
       "      <td>0.607753706</td>\n",
       "      <td>0.490091055</td>\n",
       "      <td>0.461751152</td>\n",
       "      <td>0.490384615</td>\n",
       "      <td>0.495152871</td>\n",
       "    </tr>\n",
       "    <tr>\n",
       "      <th>7800</th>\n",
       "      <td>48285704</td>\n",
       "      <td>157101</td>\n",
       "      <td>1571</td>\n",
       "      <td>Georgia Military College-Valdosta Campus</td>\n",
       "      <td>Valdosta</td>\n",
       "      <td>GA</td>\n",
       "      <td>31605</td>\n",
       "      <td>NaN</td>\n",
       "      <td>http://valdosta.gmc.cc.ga.us/</td>\n",
       "      <td>NaN</td>\n",
       "      <td>...</td>\n",
       "      <td>0.586956522</td>\n",
       "      <td>0.473891273</td>\n",
       "      <td>0.482781027</td>\n",
       "      <td>0.478442281</td>\n",
       "      <td>0.42789148</td>\n",
       "      <td>0.607753706</td>\n",
       "      <td>0.490091055</td>\n",
       "      <td>0.461751152</td>\n",
       "      <td>0.490384615</td>\n",
       "      <td>0.495152871</td>\n",
       "    </tr>\n",
       "    <tr>\n",
       "      <th>7801</th>\n",
       "      <td>48285705</td>\n",
       "      <td>157105</td>\n",
       "      <td>1571</td>\n",
       "      <td>Georgia Military College-Warner Robins Campus</td>\n",
       "      <td>Warner Robins</td>\n",
       "      <td>GA</td>\n",
       "      <td>31093</td>\n",
       "      <td>NaN</td>\n",
       "      <td>http://robins.gmc.cc.ga.us/</td>\n",
       "      <td>NaN</td>\n",
       "      <td>...</td>\n",
       "      <td>0.586956522</td>\n",
       "      <td>0.473891273</td>\n",
       "      <td>0.482781027</td>\n",
       "      <td>0.478442281</td>\n",
       "      <td>0.42789148</td>\n",
       "      <td>0.607753706</td>\n",
       "      <td>0.490091055</td>\n",
       "      <td>0.461751152</td>\n",
       "      <td>0.490384615</td>\n",
       "      <td>0.495152871</td>\n",
       "    </tr>\n",
       "    <tr>\n",
       "      <th>7802</th>\n",
       "      <td>48285706</td>\n",
       "      <td>157100</td>\n",
       "      <td>1571</td>\n",
       "      <td>Georgia Military College-Online</td>\n",
       "      <td>Milledgeville</td>\n",
       "      <td>GA</td>\n",
       "      <td>31061</td>\n",
       "      <td>NaN</td>\n",
       "      <td>http://online.gmc.cc.ga.us/</td>\n",
       "      <td>NaN</td>\n",
       "      <td>...</td>\n",
       "      <td>0.586956522</td>\n",
       "      <td>0.473891273</td>\n",
       "      <td>0.482781027</td>\n",
       "      <td>0.478442281</td>\n",
       "      <td>0.42789148</td>\n",
       "      <td>0.607753706</td>\n",
       "      <td>0.490091055</td>\n",
       "      <td>0.461751152</td>\n",
       "      <td>0.490384615</td>\n",
       "      <td>0.495152871</td>\n",
       "    </tr>\n",
       "    <tr>\n",
       "      <th>7803</th>\n",
       "      <td>48285707</td>\n",
       "      <td>157103</td>\n",
       "      <td>1571</td>\n",
       "      <td>Georgia Military College-Stone Mountain</td>\n",
       "      <td>Stone Mountain</td>\n",
       "      <td>GA</td>\n",
       "      <td>30083</td>\n",
       "      <td>NaN</td>\n",
       "      <td>http://fairburn.gmc.cc.ga.us/</td>\n",
       "      <td>NaN</td>\n",
       "      <td>...</td>\n",
       "      <td>0.586956522</td>\n",
       "      <td>0.473891273</td>\n",
       "      <td>0.482781027</td>\n",
       "      <td>0.478442281</td>\n",
       "      <td>0.42789148</td>\n",
       "      <td>0.607753706</td>\n",
       "      <td>0.490091055</td>\n",
       "      <td>0.461751152</td>\n",
       "      <td>0.490384615</td>\n",
       "      <td>0.495152871</td>\n",
       "    </tr>\n",
       "  </tbody>\n",
       "</table>\n",
       "<p>5 rows × 1725 columns</p>\n",
       "</div>"
      ],
      "text/plain": [
       "        UNITID   OPEID  opeid6                                         INSTNM  \\\n",
       "7799  48285703  157107    1571       Georgia Military College-Columbus Campus   \n",
       "7800  48285704  157101    1571       Georgia Military College-Valdosta Campus   \n",
       "7801  48285705  157105    1571  Georgia Military College-Warner Robins Campus   \n",
       "7802  48285706  157100    1571                Georgia Military College-Online   \n",
       "7803  48285707  157103    1571        Georgia Military College-Stone Mountain   \n",
       "\n",
       "                CITY STABBR    ZIP AccredAgency  \\\n",
       "7799        Columbus     GA  31909          NaN   \n",
       "7800        Valdosta     GA  31605          NaN   \n",
       "7801   Warner Robins     GA  31093          NaN   \n",
       "7802   Milledgeville     GA  31061          NaN   \n",
       "7803  Stone Mountain     GA  30083          NaN   \n",
       "\n",
       "                            INSTURL NPCURL             ...               \\\n",
       "7799  http://columbus.gmc.cc.ga.us/    NaN             ...                \n",
       "7800  http://valdosta.gmc.cc.ga.us/    NaN             ...                \n",
       "7801    http://robins.gmc.cc.ga.us/    NaN             ...                \n",
       "7802    http://online.gmc.cc.ga.us/    NaN             ...                \n",
       "7803  http://fairburn.gmc.cc.ga.us/    NaN             ...                \n",
       "\n",
       "      COMPL_RPY_3YR_RT_SUPP  NONCOM_RPY_3YR_RT_SUPP  DEP_RPY_3YR_RT_SUPP  \\\n",
       "7799            0.586956522             0.473891273          0.482781027   \n",
       "7800            0.586956522             0.473891273          0.482781027   \n",
       "7801            0.586956522             0.473891273          0.482781027   \n",
       "7802            0.586956522             0.473891273          0.482781027   \n",
       "7803            0.586956522             0.473891273          0.482781027   \n",
       "\n",
       "      IND_RPY_3YR_RT_SUPP  PELL_RPY_3YR_RT_SUPP  NOPELL_RPY_3YR_RT_SUPP  \\\n",
       "7799          0.478442281            0.42789148             0.607753706   \n",
       "7800          0.478442281            0.42789148             0.607753706   \n",
       "7801          0.478442281            0.42789148             0.607753706   \n",
       "7802          0.478442281            0.42789148             0.607753706   \n",
       "7803          0.478442281            0.42789148             0.607753706   \n",
       "\n",
       "      FEMALE_RPY_3YR_RT_SUPP  MALE_RPY_3YR_RT_SUPP  FIRSTGEN_RPY_3YR_RT_SUPP  \\\n",
       "7799             0.490091055           0.461751152               0.490384615   \n",
       "7800             0.490091055           0.461751152               0.490384615   \n",
       "7801             0.490091055           0.461751152               0.490384615   \n",
       "7802             0.490091055           0.461751152               0.490384615   \n",
       "7803             0.490091055           0.461751152               0.490384615   \n",
       "\n",
       "      NOTFIRSTGEN_RPY_3YR_RT_SUPP  \n",
       "7799                  0.495152871  \n",
       "7800                  0.495152871  \n",
       "7801                  0.495152871  \n",
       "7802                  0.495152871  \n",
       "7803                  0.495152871  \n",
       "\n",
       "[5 rows x 1725 columns]"
      ]
     },
     "execution_count": 2,
     "metadata": {},
     "output_type": "execute_result"
    }
   ],
   "source": [
    "df = pd.read_csv(\"../../datasets/CollegeScorecard.csv\")\n",
    "df.tail()"
   ]
  },
  {
   "cell_type": "markdown",
   "metadata": {},
   "source": [
    "### Some Preprocessing"
   ]
  },
  {
   "cell_type": "code",
   "execution_count": 4,
   "metadata": {
    "collapsed": true
   },
   "outputs": [
    {
     "data": {
      "text/plain": [
       "AccredAgency                   2052\n",
       "INSTURL                          85\n",
       "NPCURL                          591\n",
       "sch_deg                        7804\n",
       "LOCALE                          424\n",
       "locale2                        7804\n",
       "LATITUDE                        785\n",
       "LONGITUDE                       785\n",
       "CCBASIC                        3449\n",
       "CCUGPROF                       4245\n",
       "CCSIZSET                       4228\n",
       "HBCU                            421\n",
       "PBI                             421\n",
       "ANNHI                           421\n",
       "TRIBAL                          421\n",
       "AANAPII                         421\n",
       "HSI                             421\n",
       "NANTI                           421\n",
       "MENONLY                         421\n",
       "WOMENONLY                       421\n",
       "RELAFFIL                       6887\n",
       "ADM_RATE                       5584\n",
       "ADM_RATE_ALL                   5320\n",
       "SATVR25                        6503\n",
       "SATVR75                        6503\n",
       "SATMT25                        6489\n",
       "SATMT75                        6489\n",
       "SATWR25                        7011\n",
       "SATWR75                        7011\n",
       "SATVRMID                       6503\n",
       "                               ... \n",
       "mn_earn_wne_p8                 7804\n",
       "md_earn_wne_p8                 7804\n",
       "pct10_earn_wne_p8              7804\n",
       "pct25_earn_wne_p8              7804\n",
       "pct75_earn_wne_p8              7804\n",
       "pct90_earn_wne_p8              7804\n",
       "sd_earn_wne_p8                 7804\n",
       "gt_25k_p8                      7804\n",
       "count_nwne_p9                  7804\n",
       "count_wne_p9                   7804\n",
       "mn_earn_wne_p9                 7804\n",
       "sd_earn_wne_p9                 7804\n",
       "gt_25k_p9                      7804\n",
       "DEBT_MDN_SUPP                   710\n",
       "GRAD_DEBT_MDN_SUPP              710\n",
       "GRAD_DEBT_MDN10YR_SUPP          710\n",
       "RPY_3YR_RT_SUPP                 971\n",
       "LO_INC_RPY_3YR_RT_SUPP          971\n",
       "MD_INC_RPY_3YR_RT_SUPP          971\n",
       "HI_INC_RPY_3YR_RT_SUPP          971\n",
       "COMPL_RPY_3YR_RT_SUPP           971\n",
       "NONCOM_RPY_3YR_RT_SUPP          971\n",
       "DEP_RPY_3YR_RT_SUPP             971\n",
       "IND_RPY_3YR_RT_SUPP             971\n",
       "PELL_RPY_3YR_RT_SUPP            971\n",
       "NOPELL_RPY_3YR_RT_SUPP          971\n",
       "FEMALE_RPY_3YR_RT_SUPP          971\n",
       "MALE_RPY_3YR_RT_SUPP            971\n",
       "FIRSTGEN_RPY_3YR_RT_SUPP        971\n",
       "NOTFIRSTGEN_RPY_3YR_RT_SUPP     971\n",
       "Length: 1709, dtype: int64"
      ]
     },
     "execution_count": 4,
     "metadata": {},
     "output_type": "execute_result"
    }
   ],
   "source": [
    "null_columns = df.columns[df.isnull().any()]\n",
    "df[null_columns].isnull().sum()"
   ]
  },
  {
   "cell_type": "markdown",
   "metadata": {},
   "source": [
    "#### Removing columns with null values >= 3500"
   ]
  },
  {
   "cell_type": "code",
   "execution_count": 5,
   "metadata": {},
   "outputs": [],
   "source": [
    "remove_cols = []\n",
    "for i in null_columns:\n",
    "    if df[i].isnull().sum() >= 3500:\n",
    "        remove_cols.append(i)"
   ]
  },
  {
   "cell_type": "code",
   "execution_count": 6,
   "metadata": {},
   "outputs": [
    {
     "data": {
      "text/plain": [
       "1267"
      ]
     },
     "execution_count": 6,
     "metadata": {},
     "output_type": "execute_result"
    }
   ],
   "source": [
    "len(remove_cols)"
   ]
  },
  {
   "cell_type": "code",
   "execution_count": 7,
   "metadata": {},
   "outputs": [],
   "source": [
    "df.drop(labels=remove_cols,axis=1,inplace=True)"
   ]
  },
  {
   "cell_type": "code",
   "execution_count": 8,
   "metadata": {},
   "outputs": [
    {
     "data": {
      "text/plain": [
       "(7804, 458)"
      ]
     },
     "execution_count": 8,
     "metadata": {},
     "output_type": "execute_result"
    }
   ],
   "source": [
    "df.shape"
   ]
  },
  {
   "cell_type": "markdown",
   "metadata": {},
   "source": [
    "#### Removing all null values and text values"
   ]
  },
  {
   "cell_type": "code",
   "execution_count": 9,
   "metadata": {},
   "outputs": [
    {
     "data": {
      "text/plain": [
       "(1319, 458)"
      ]
     },
     "execution_count": 9,
     "metadata": {},
     "output_type": "execute_result"
    }
   ],
   "source": [
    "df = df.dropna(axis=0,how=\"any\")\n",
    "df.shape"
   ]
  },
  {
   "cell_type": "code",
   "execution_count": 10,
   "metadata": {},
   "outputs": [
    {
     "data": {
      "text/plain": [
       "(1319, 284)"
      ]
     },
     "execution_count": 10,
     "metadata": {},
     "output_type": "execute_result"
    }
   ],
   "source": [
    "obj_cols=[]\n",
    "for i in range(len(df.dtypes)):\n",
    "    if df.dtypes[i] == 'object':\n",
    "        obj_cols.append(df.columns[i])\n",
    "df.drop(labels=obj_cols,axis=1,inplace=True)\n",
    "df.shape"
   ]
  },
  {
   "cell_type": "markdown",
   "metadata": {},
   "source": [
    "#### Elbow Plot for number of clusters\n",
    "with K-Means"
   ]
  },
  {
   "cell_type": "code",
   "execution_count": 11,
   "metadata": {},
   "outputs": [],
   "source": [
    "X = df.values"
   ]
  },
  {
   "cell_type": "code",
   "execution_count": 12,
   "metadata": {},
   "outputs": [
    {
     "data": {
      "image/png": "[encoded data removed]",
      "text/plain": [
       "<Figure size 432x288 with 1 Axes>"
      ]
     },
     "metadata": {},
     "output_type": "display_data"
    }
   ],
   "source": [
    "from sklearn.cluster import KMeans\n",
    "import matplotlib.pyplot as plt\n",
    "sse = {}\n",
    "for k in range(1, 10):\n",
    "    kmeans = KMeans(n_clusters=k, max_iter=1000).fit(X)\n",
    "    #X[\"clusters\"] = kmeans.labels_\n",
    "    #print(data[\"clusters\"])\n",
    "    sse[k] = kmeans.inertia_\n",
    "plt.figure()\n",
    "plt.plot(list(sse.keys()), list(sse.values()))\n",
    "plt.xlabel(\"Number of cluster\")\n",
    "plt.ylabel(\"SSE\")\n",
    "plt.show()"
   ]
  },
  {
   "cell_type": "code",
   "execution_count": 13,
   "metadata": {},
   "outputs": [],
   "source": [
    "#df.to_csv('Hierarchical-Clustering/cs.csv',index=False,sep=',')"
   ]
  },
  {
   "cell_type": "code",
   "execution_count": 14,
   "metadata": {},
   "outputs": [],
   "source": [
    "#df = df.iloc[:,2:]\n",
    "#df.reset_index(drop=True,inplace=True)"
   ]
  },
  {
   "cell_type": "code",
   "execution_count": 15,
   "metadata": {},
   "outputs": [],
   "source": [
    "#df.set_index()"
   ]
  },
  {
   "cell_type": "markdown",
   "metadata": {},
   "source": [
    "No of suitable clusters = 4"
   ]
  },
  {
   "cell_type": "code",
   "execution_count": 16,
   "metadata": {},
   "outputs": [
    {
     "data": {
      "image/png": "[encoded data removed]",
      "text/plain": [
       "<Figure size 432x288 with 1 Axes>"
      ]
     },
     "metadata": {},
     "output_type": "display_data"
    }
   ],
   "source": [
    "from sklearn.decomposition import PCA\n",
    "pca = PCA(n_components=2)\n",
    "pca.fit(df)\n",
    "T = pca.transform(df)\n",
    "T = pd.DataFrame(T)\n",
    "\n",
    "# plot the data\n",
    "T.columns = ['PCA component 1', 'PCA component 2']\n",
    "T.plot.scatter(x='PCA component 1', y='PCA component 2', marker='o',\n",
    "        alpha=0.7)\n",
    "plt.show()"
   ]
  },
  {
   "cell_type": "markdown",
   "metadata": {},
   "source": [
    "### Applying the K-Means Algorithm"
   ]
  },
  {
   "cell_type": "markdown",
   "metadata": {},
   "source": [
    "###### 4 clusters"
   ]
  },
  {
   "cell_type": "code",
   "execution_count": 28,
   "metadata": {},
   "outputs": [
    {
     "data": {
      "text/plain": [
       "array([3, 0, 0, ..., 3, 3, 3], dtype=int32)"
      ]
     },
     "execution_count": 28,
     "metadata": {},
     "output_type": "execute_result"
    }
   ],
   "source": [
    "kmeans = KMeans(n_clusters=4, random_state=0).fit(X)\n",
    "y = kmeans.labels_\n",
    "y"
   ]
  },
  {
   "cell_type": "code",
   "execution_count": 19,
   "metadata": {},
   "outputs": [],
   "source": [
    "label_color = []\n",
    "for i in y:\n",
    "    if i==0:\n",
    "        label_color.append('red')\n",
    "    elif i==1:\n",
    "        label_color.append('blue')\n",
    "    elif i==2:\n",
    "        label_color.append('green')\n",
    "    else:\n",
    "        label_color.append('yellow')"
   ]
  },
  {
   "cell_type": "code",
   "execution_count": 20,
   "metadata": {},
   "outputs": [
    {
     "data": {
      "text/plain": [
       "<matplotlib.axes._subplots.AxesSubplot at 0x7fe904c3e748>"
      ]
     },
     "execution_count": 20,
     "metadata": {},
     "output_type": "execute_result"
    },
    {
     "data": {
      "image/png": "[encoded data removed]",
      "text/plain": [
       "<Figure size 432x288 with 1 Axes>"
      ]
     },
     "metadata": {},
     "output_type": "display_data"
    }
   ],
   "source": [
    "T.plot.scatter(x='PCA component 1', y='PCA component 2', marker='o',alpha=0.7,color=label_color)"
   ]
  },
  {
   "cell_type": "markdown",
   "metadata": {},
   "source": [
    "###### 6 clusters"
   ]
  },
  {
   "cell_type": "code",
   "execution_count": 21,
   "metadata": {},
   "outputs": [],
   "source": [
    "kmeans = KMeans(n_clusters=6, random_state=0).fit(X)\n",
    "y = kmeans.labels_"
   ]
  },
  {
   "cell_type": "code",
   "execution_count": 22,
   "metadata": {},
   "outputs": [],
   "source": [
    "label_color = []\n",
    "for i in y:\n",
    "    if i==0:\n",
    "        label_color.append('red')\n",
    "    elif i==1:\n",
    "        label_color.append('blue')\n",
    "    elif i==2:\n",
    "        label_color.append('green')\n",
    "    elif i==3:\n",
    "        label_color.append('yellow')\n",
    "    elif i==4:\n",
    "        label_color.append('pink')\n",
    "    else:\n",
    "        label_color.append('black')"
   ]
  },
  {
   "cell_type": "code",
   "execution_count": 23,
   "metadata": {},
   "outputs": [
    {
     "data": {
      "text/plain": [
       "<matplotlib.axes._subplots.AxesSubplot at 0x7fe95408ec50>"
      ]
     },
     "execution_count": 23,
     "metadata": {},
     "output_type": "execute_result"
    },
    {
     "data": {
      "image/png": "[encoded data removed]",
      "text/plain": [
       "<Figure size 432x288 with 1 Axes>"
      ]
     },
     "metadata": {},
     "output_type": "display_data"
    }
   ],
   "source": [
    "T.plot.scatter(x='PCA component 1', y='PCA component 2', marker='o',alpha=0.7,color=label_color)"
   ]
  },
  {
   "cell_type": "markdown",
   "metadata": {},
   "source": [
    "This method does not seem to cluster the results very well in the case of 6 clusters"
   ]
  },
  {
   "cell_type": "markdown",
   "metadata": {},
   "source": [
    "### AGNES"
   ]
  },
  {
   "cell_type": "markdown",
   "metadata": {},
   "source": [
    "##### 4 clusters"
   ]
  },
  {
   "cell_type": "code",
   "execution_count": 29,
   "metadata": {},
   "outputs": [],
   "source": [
    "from sklearn.cluster import AgglomerativeClustering\n",
    "clustering = AgglomerativeClustering(n_clusters = 4).fit(X)\n",
    "y = clustering.labels_"
   ]
  },
  {
   "cell_type": "code",
   "execution_count": 25,
   "metadata": {},
   "outputs": [],
   "source": [
    "label_color = []\n",
    "for i in y:\n",
    "    if i==0:\n",
    "        label_color.append('red')\n",
    "    elif i==1:\n",
    "        label_color.append('blue')\n",
    "    elif i==2:\n",
    "        label_color.append('green')\n",
    "    elif i==3:\n",
    "        label_color.append('yellow')"
   ]
  },
  {
   "cell_type": "code",
   "execution_count": 26,
   "metadata": {},
   "outputs": [
    {
     "data": {
      "text/plain": [
       "<matplotlib.axes._subplots.AxesSubplot at 0x7fe904f8d898>"
      ]
     },
     "execution_count": 26,
     "metadata": {},
     "output_type": "execute_result"
    },
    {
     "data": {
      "image/png": "[encoded data removed]",
      "text/plain": [
       "<Figure size 432x288 with 1 Axes>"
      ]
     },
     "metadata": {},
     "output_type": "display_data"
    }
   ],
   "source": [
    "T.plot.scatter(x='PCA component 1', y='PCA component 2', marker='o',alpha=0.7,color=label_color)"
   ]
  },
  {
   "cell_type": "markdown",
   "metadata": {},
   "source": [
    "The results are the same as K-Means, which means that both are efficient"
   ]
  },
  {
   "cell_type": "markdown",
   "metadata": {},
   "source": [
    "##### 6 clusters"
   ]
  },
  {
   "cell_type": "code",
   "execution_count": 27,
   "metadata": {},
   "outputs": [],
   "source": [
    "from sklearn.cluster import AgglomerativeClustering\n",
    "clustering = AgglomerativeClustering(n_clusters = 6).fit(X)\n",
    "y = clustering.labels_"
   ]
  },
  {
   "cell_type": "code",
   "execution_count": 42,
   "metadata": {},
   "outputs": [],
   "source": [
    "label_color = []\n",
    "for i in y:\n",
    "    if i==0:\n",
    "        label_color.append('red')\n",
    "    elif i==1:\n",
    "        label_color.append('blue')\n",
    "    elif i==2:\n",
    "        label_color.append('green')\n",
    "    elif i==3:\n",
    "        label_color.append('yellow')\n",
    "    elif i==4:\n",
    "        label_color.append('pink')\n",
    "    else:\n",
    "        label_color.append('black')"
   ]
  },
  {
   "cell_type": "code",
   "execution_count": 43,
   "metadata": {},
   "outputs": [
    {
     "data": {
      "text/plain": [
       "<matplotlib.axes._subplots.AxesSubplot at 0x7f542408c390>"
      ]
     },
     "execution_count": 43,
     "metadata": {},
     "output_type": "execute_result"
    },
    {
     "data": {
      "image/png": "[encoded data removed]",
      "text/plain": [
       "<Figure size 432x288 with 1 Axes>"
      ]
     },
     "metadata": {},
     "output_type": "display_data"
    }
   ],
   "source": [
    "T.plot.scatter(x='PCA component 1', y='PCA component 2', marker='o',alpha=0.7,color=label_color)"
   ]
  },
  {
   "cell_type": "markdown",
   "metadata": {},
   "source": [
    "With 6 clusters, the results are the same as with K-Means"
   ]
  },
  {
   "cell_type": "markdown",
   "metadata": {},
   "source": [
    "### SOM"
   ]
  },
  {
   "cell_type": "code",
   "execution_count": 37,
   "metadata": {},
   "outputs": [],
   "source": [
    "som = SimpleSOMMapper((20, 30), 400, learning_rate=0.05)"
   ]
  },
  {
   "cell_type": "code",
   "execution_count": 38,
   "metadata": {},
   "outputs": [],
   "source": [
    "som.train(X)"
   ]
  },
  {
   "cell_type": "code",
   "execution_count": 39,
   "metadata": {},
   "outputs": [],
   "source": [
    "color_names = \\\n",
    "        ['black', 'blue', 'darkblue', 'skyblue']"
   ]
  },
  {
   "cell_type": "code",
   "execution_count": 40,
   "metadata": {},
   "outputs": [
    {
     "ename": "TypeError",
     "evalue": "Invalid dimensions for image data",
     "output_type": "error",
     "traceback": [
      "\u001b[0;31m---------------------------------------------------------------------------\u001b[0m",
      "\u001b[0;31mTypeError\u001b[0m                                 Traceback (most recent call last)",
      "\u001b[0;32m<ipython-input-40-d5ddd7fd1a87>\u001b[0m in \u001b[0;36m<module>\u001b[0;34m()\u001b[0m\n\u001b[0;32m----> 1\u001b[0;31m \u001b[0mplt\u001b[0m\u001b[0;34m.\u001b[0m\u001b[0mimshow\u001b[0m\u001b[0;34m(\u001b[0m\u001b[0msom\u001b[0m\u001b[0;34m.\u001b[0m\u001b[0mK\u001b[0m\u001b[0;34m,\u001b[0m \u001b[0morigin\u001b[0m\u001b[0;34m=\u001b[0m\u001b[0;34m'lower'\u001b[0m\u001b[0;34m)\u001b[0m\u001b[0;34m\u001b[0m\u001b[0m\n\u001b[0m",
      "\u001b[0;32m/usr/local/lib/python3.5/dist-packages/matplotlib/pyplot.py\u001b[0m in \u001b[0;36mimshow\u001b[0;34m(X, cmap, norm, aspect, interpolation, alpha, vmin, vmax, origin, extent, shape, filternorm, filterrad, imlim, resample, url, hold, data, **kwargs)\u001b[0m\n\u001b[1;32m   3208\u001b[0m                         \u001b[0mfilternorm\u001b[0m\u001b[0;34m=\u001b[0m\u001b[0mfilternorm\u001b[0m\u001b[0;34m,\u001b[0m \u001b[0mfilterrad\u001b[0m\u001b[0;34m=\u001b[0m\u001b[0mfilterrad\u001b[0m\u001b[0;34m,\u001b[0m\u001b[0;34m\u001b[0m\u001b[0m\n\u001b[1;32m   3209\u001b[0m                         \u001b[0mimlim\u001b[0m\u001b[0;34m=\u001b[0m\u001b[0mimlim\u001b[0m\u001b[0;34m,\u001b[0m \u001b[0mresample\u001b[0m\u001b[0;34m=\u001b[0m\u001b[0mresample\u001b[0m\u001b[0;34m,\u001b[0m \u001b[0murl\u001b[0m\u001b[0;34m=\u001b[0m\u001b[0murl\u001b[0m\u001b[0;34m,\u001b[0m \u001b[0mdata\u001b[0m\u001b[0;34m=\u001b[0m\u001b[0mdata\u001b[0m\u001b[0;34m,\u001b[0m\u001b[0;34m\u001b[0m\u001b[0m\n\u001b[0;32m-> 3210\u001b[0;31m                         **kwargs)\n\u001b[0m\u001b[1;32m   3211\u001b[0m     \u001b[0;32mfinally\u001b[0m\u001b[0;34m:\u001b[0m\u001b[0;34m\u001b[0m\u001b[0m\n\u001b[1;32m   3212\u001b[0m         \u001b[0max\u001b[0m\u001b[0;34m.\u001b[0m\u001b[0m_hold\u001b[0m \u001b[0;34m=\u001b[0m \u001b[0mwashold\u001b[0m\u001b[0;34m\u001b[0m\u001b[0m\n",
      "\u001b[0;32m/usr/local/lib/python3.5/dist-packages/matplotlib/__init__.py\u001b[0m in \u001b[0;36minner\u001b[0;34m(ax, *args, **kwargs)\u001b[0m\n\u001b[1;32m   1865\u001b[0m                         \u001b[0;34m\"the Matplotlib list!)\"\u001b[0m \u001b[0;34m%\u001b[0m \u001b[0;34m(\u001b[0m\u001b[0mlabel_namer\u001b[0m\u001b[0;34m,\u001b[0m \u001b[0mfunc\u001b[0m\u001b[0;34m.\u001b[0m\u001b[0m__name__\u001b[0m\u001b[0;34m)\u001b[0m\u001b[0;34m,\u001b[0m\u001b[0;34m\u001b[0m\u001b[0m\n\u001b[1;32m   1866\u001b[0m                         RuntimeWarning, stacklevel=2)\n\u001b[0;32m-> 1867\u001b[0;31m             \u001b[0;32mreturn\u001b[0m \u001b[0mfunc\u001b[0m\u001b[0;34m(\u001b[0m\u001b[0max\u001b[0m\u001b[0;34m,\u001b[0m \u001b[0;34m*\u001b[0m\u001b[0margs\u001b[0m\u001b[0;34m,\u001b[0m \u001b[0;34m**\u001b[0m\u001b[0mkwargs\u001b[0m\u001b[0;34m)\u001b[0m\u001b[0;34m\u001b[0m\u001b[0m\n\u001b[0m\u001b[1;32m   1868\u001b[0m \u001b[0;34m\u001b[0m\u001b[0m\n\u001b[1;32m   1869\u001b[0m         inner.__doc__ = _add_data_doc(inner.__doc__,\n",
      "\u001b[0;32m/usr/local/lib/python3.5/dist-packages/matplotlib/axes/_axes.py\u001b[0m in \u001b[0;36mimshow\u001b[0;34m(self, X, cmap, norm, aspect, interpolation, alpha, vmin, vmax, origin, extent, shape, filternorm, filterrad, imlim, resample, url, **kwargs)\u001b[0m\n\u001b[1;32m   5499\u001b[0m                               resample=resample, **kwargs)\n\u001b[1;32m   5500\u001b[0m \u001b[0;34m\u001b[0m\u001b[0m\n\u001b[0;32m-> 5501\u001b[0;31m         \u001b[0mim\u001b[0m\u001b[0;34m.\u001b[0m\u001b[0mset_data\u001b[0m\u001b[0;34m(\u001b[0m\u001b[0mX\u001b[0m\u001b[0;34m)\u001b[0m\u001b[0;34m\u001b[0m\u001b[0m\n\u001b[0m\u001b[1;32m   5502\u001b[0m         \u001b[0mim\u001b[0m\u001b[0;34m.\u001b[0m\u001b[0mset_alpha\u001b[0m\u001b[0;34m(\u001b[0m\u001b[0malpha\u001b[0m\u001b[0;34m)\u001b[0m\u001b[0;34m\u001b[0m\u001b[0m\n\u001b[1;32m   5503\u001b[0m         \u001b[0;32mif\u001b[0m \u001b[0mim\u001b[0m\u001b[0;34m.\u001b[0m\u001b[0mget_clip_path\u001b[0m\u001b[0;34m(\u001b[0m\u001b[0;34m)\u001b[0m \u001b[0;32mis\u001b[0m \u001b[0;32mNone\u001b[0m\u001b[0;34m:\u001b[0m\u001b[0;34m\u001b[0m\u001b[0m\n",
      "\u001b[0;32m/usr/local/lib/python3.5/dist-packages/matplotlib/image.py\u001b[0m in \u001b[0;36mset_data\u001b[0;34m(self, A)\u001b[0m\n\u001b[1;32m    652\u001b[0m         if not (self._A.ndim == 2\n\u001b[1;32m    653\u001b[0m                 or self._A.ndim == 3 and self._A.shape[-1] in [3, 4]):\n\u001b[0;32m--> 654\u001b[0;31m             \u001b[0;32mraise\u001b[0m \u001b[0mTypeError\u001b[0m\u001b[0;34m(\u001b[0m\u001b[0;34m\"Invalid dimensions for image data\"\u001b[0m\u001b[0;34m)\u001b[0m\u001b[0;34m\u001b[0m\u001b[0m\n\u001b[0m\u001b[1;32m    655\u001b[0m \u001b[0;34m\u001b[0m\u001b[0m\n\u001b[1;32m    656\u001b[0m         \u001b[0;32mif\u001b[0m \u001b[0mself\u001b[0m\u001b[0;34m.\u001b[0m\u001b[0m_A\u001b[0m\u001b[0;34m.\u001b[0m\u001b[0mndim\u001b[0m \u001b[0;34m==\u001b[0m \u001b[0;36m3\u001b[0m\u001b[0;34m:\u001b[0m\u001b[0;34m\u001b[0m\u001b[0m\n",
      "\u001b[0;31mTypeError\u001b[0m: Invalid dimensions for image data"
     ]
    },
    {
     "data": {
      "image/png": "[encoded data removed]",
      "text/plain": [
       "<Figure size 432x288 with 1 Axes>"
      ]
     },
     "metadata": {},
     "output_type": "display_data"
    }
   ],
   "source": [
    "plt.imshow(som.K, origin='lower')"
   ]
  },
  {
   "cell_type": "code",
   "execution_count": 41,
   "metadata": {},
   "outputs": [],
   "source": [
    "pca3 = PCA(n_components=3)\n",
    "pca3.fit(df)\n",
    "T3 = pca3.transform(df)\n",
    "T3 = pd.DataFrame(T3)"
   ]
  },
  {
   "cell_type": "code",
   "execution_count": 42,
   "metadata": {},
   "outputs": [],
   "source": [
    "somt = SimpleSOMMapper((20, 30), 400, learning_rate=0.05)\n",
    "somt.train(T3.values)"
   ]
  },
  {
   "cell_type": "code",
   "execution_count": 43,
   "metadata": {},
   "outputs": [
    {
     "name": "stderr",
     "output_type": "stream",
     "text": [
      "Clipping input data to the valid range for imshow with RGB data ([0..1] for floats or [0..255] for integers).\n"
     ]
    },
    {
     "data": {
      "text/plain": [
       "<matplotlib.image.AxesImage at 0x7fe905cd85c0>"
      ]
     },
     "execution_count": 43,
     "metadata": {},
     "output_type": "execute_result"
    },
    {
     "data": {
      "image/png": "[encoded data removed]",
      "text/plain": [
       "<Figure size 432x288 with 1 Axes>"
      ]
     },
     "metadata": {},
     "output_type": "display_data"
    }
   ],
   "source": [
    "plt.imshow(somt.K, origin='lower')"
   ]
  },
  {
   "cell_type": "code",
   "execution_count": 78,
   "metadata": {},
   "outputs": [
    {
     "data": {
      "text/plain": [
       "(20, 30, 3)"
      ]
     },
     "execution_count": 78,
     "metadata": {},
     "output_type": "execute_result"
    }
   ],
   "source": [
    "somt.K.shape"
   ]
  },
  {
   "cell_type": "code",
   "execution_count": 79,
   "metadata": {},
   "outputs": [
    {
     "data": {
      "text/plain": [
       "(20, 30, 3)"
      ]
     },
     "execution_count": 79,
     "metadata": {},
     "output_type": "execute_result"
    }
   ],
   "source": [
    "ssom.K.shape"
   ]
  },
  {
   "cell_type": "code",
   "execution_count": 80,
   "metadata": {},
   "outputs": [
    {
     "data": {
      "text/plain": [
       "(20, 30, 284)"
      ]
     },
     "execution_count": 80,
     "metadata": {},
     "output_type": "execute_result"
    }
   ],
   "source": [
    "som.K.shape"
   ]
  },
  {
   "cell_type": "code",
   "execution_count": 87,
   "metadata": {},
   "outputs": [
    {
     "data": {
      "text/plain": [
       "<matplotlib.axes._subplots.AxesSubplot at 0x7f54044107b8>"
      ]
     },
     "execution_count": 87,
     "metadata": {},
     "output_type": "execute_result"
    },
    {
     "data": {
      "image/png": "[encoded data removed]",
      "text/plain": [
       "<Figure size 432x288 with 1 Axes>"
      ]
     },
     "metadata": {},
     "output_type": "display_data"
    }
   ],
   "source": [
    "T3.plot.scatter(x = T3.columns[2],y = T3.columns[0])"
   ]
  },
  {
   "cell_type": "code",
   "execution_count": 83,
   "metadata": {
    "collapsed": true
   },
   "outputs": [
    {
     "data": {
      "text/html": [
       "<div>\n",
       "<style scoped>\n",
       "    .dataframe tbody tr th:only-of-type {\n",
       "        vertical-align: middle;\n",
       "    }\n",
       "\n",
       "    .dataframe tbody tr th {\n",
       "        vertical-align: top;\n",
       "    }\n",
       "\n",
       "    .dataframe thead th {\n",
       "        text-align: right;\n",
       "    }\n",
       "</style>\n",
       "<table border=\"1\" class=\"dataframe\">\n",
       "  <thead>\n",
       "    <tr style=\"text-align: right;\">\n",
       "      <th></th>\n",
       "      <th>0</th>\n",
       "      <th>1</th>\n",
       "      <th>2</th>\n",
       "    </tr>\n",
       "  </thead>\n",
       "  <tbody>\n",
       "    <tr>\n",
       "      <th>0</th>\n",
       "      <td>1.706391e+06</td>\n",
       "      <td>-179900.335948</td>\n",
       "      <td>-19397.863278</td>\n",
       "    </tr>\n",
       "    <tr>\n",
       "      <th>1</th>\n",
       "      <td>-6.934697e+05</td>\n",
       "      <td>-69549.568853</td>\n",
       "      <td>-805.510761</td>\n",
       "    </tr>\n",
       "    <tr>\n",
       "      <th>2</th>\n",
       "      <td>-6.942771e+05</td>\n",
       "      <td>-69234.402666</td>\n",
       "      <td>-12003.685850</td>\n",
       "    </tr>\n",
       "    <tr>\n",
       "      <th>3</th>\n",
       "      <td>-6.926962e+05</td>\n",
       "      <td>-69036.663883</td>\n",
       "      <td>-9789.315067</td>\n",
       "    </tr>\n",
       "    <tr>\n",
       "      <th>4</th>\n",
       "      <td>-6.922573e+05</td>\n",
       "      <td>-68947.908479</td>\n",
       "      <td>-15127.958837</td>\n",
       "    </tr>\n",
       "    <tr>\n",
       "      <th>5</th>\n",
       "      <td>-6.917180e+05</td>\n",
       "      <td>-68785.982355</td>\n",
       "      <td>-21726.164557</td>\n",
       "    </tr>\n",
       "    <tr>\n",
       "      <th>6</th>\n",
       "      <td>-6.916646e+05</td>\n",
       "      <td>-68828.867033</td>\n",
       "      <td>-12945.193476</td>\n",
       "    </tr>\n",
       "    <tr>\n",
       "      <th>7</th>\n",
       "      <td>-6.912302e+05</td>\n",
       "      <td>-68757.981539</td>\n",
       "      <td>-4663.466440</td>\n",
       "    </tr>\n",
       "    <tr>\n",
       "      <th>8</th>\n",
       "      <td>1.499268e+06</td>\n",
       "      <td>-169252.163314</td>\n",
       "      <td>-6867.592738</td>\n",
       "    </tr>\n",
       "    <tr>\n",
       "      <th>9</th>\n",
       "      <td>-6.910150e+05</td>\n",
       "      <td>-68624.142437</td>\n",
       "      <td>1207.569109</td>\n",
       "    </tr>\n",
       "    <tr>\n",
       "      <th>10</th>\n",
       "      <td>-6.905048e+05</td>\n",
       "      <td>-68339.297695</td>\n",
       "      <td>-4644.767490</td>\n",
       "    </tr>\n",
       "    <tr>\n",
       "      <th>11</th>\n",
       "      <td>1.473687e+06</td>\n",
       "      <td>-167669.804185</td>\n",
       "      <td>-14103.692440</td>\n",
       "    </tr>\n",
       "    <tr>\n",
       "      <th>12</th>\n",
       "      <td>-6.901153e+05</td>\n",
       "      <td>-68328.563823</td>\n",
       "      <td>-14771.076752</td>\n",
       "    </tr>\n",
       "    <tr>\n",
       "      <th>13</th>\n",
       "      <td>-6.899141e+05</td>\n",
       "      <td>-68255.693242</td>\n",
       "      <td>-22981.797633</td>\n",
       "    </tr>\n",
       "    <tr>\n",
       "      <th>14</th>\n",
       "      <td>-6.895374e+05</td>\n",
       "      <td>-68433.772024</td>\n",
       "      <td>1954.125853</td>\n",
       "    </tr>\n",
       "    <tr>\n",
       "      <th>15</th>\n",
       "      <td>-6.884692e+05</td>\n",
       "      <td>-68185.025153</td>\n",
       "      <td>8953.710786</td>\n",
       "    </tr>\n",
       "    <tr>\n",
       "      <th>16</th>\n",
       "      <td>1.779854e+06</td>\n",
       "      <td>-181291.180570</td>\n",
       "      <td>2227.390280</td>\n",
       "    </tr>\n",
       "    <tr>\n",
       "      <th>17</th>\n",
       "      <td>1.498315e+06</td>\n",
       "      <td>-167548.851564</td>\n",
       "      <td>-2622.221326</td>\n",
       "    </tr>\n",
       "    <tr>\n",
       "      <th>18</th>\n",
       "      <td>1.694586e+06</td>\n",
       "      <td>-176284.695948</td>\n",
       "      <td>33872.863851</td>\n",
       "    </tr>\n",
       "    <tr>\n",
       "      <th>19</th>\n",
       "      <td>-6.870167e+05</td>\n",
       "      <td>-66092.123396</td>\n",
       "      <td>-4342.829848</td>\n",
       "    </tr>\n",
       "    <tr>\n",
       "      <th>20</th>\n",
       "      <td>1.466535e+06</td>\n",
       "      <td>-164944.663850</td>\n",
       "      <td>319.589509</td>\n",
       "    </tr>\n",
       "    <tr>\n",
       "      <th>21</th>\n",
       "      <td>1.302431e+06</td>\n",
       "      <td>-156604.482338</td>\n",
       "      <td>-9729.577113</td>\n",
       "    </tr>\n",
       "    <tr>\n",
       "      <th>22</th>\n",
       "      <td>1.268858e+06</td>\n",
       "      <td>-155057.989337</td>\n",
       "      <td>7512.429955</td>\n",
       "    </tr>\n",
       "    <tr>\n",
       "      <th>23</th>\n",
       "      <td>-8.369208e+04</td>\n",
       "      <td>-92606.588686</td>\n",
       "      <td>-3699.544104</td>\n",
       "    </tr>\n",
       "    <tr>\n",
       "      <th>24</th>\n",
       "      <td>1.375102e+06</td>\n",
       "      <td>-159414.945817</td>\n",
       "      <td>-9359.975992</td>\n",
       "    </tr>\n",
       "    <tr>\n",
       "      <th>25</th>\n",
       "      <td>-6.855922e+05</td>\n",
       "      <td>-64481.896068</td>\n",
       "      <td>-21013.849863</td>\n",
       "    </tr>\n",
       "    <tr>\n",
       "      <th>26</th>\n",
       "      <td>-6.856019e+05</td>\n",
       "      <td>-64401.087415</td>\n",
       "      <td>-13726.542430</td>\n",
       "    </tr>\n",
       "    <tr>\n",
       "      <th>27</th>\n",
       "      <td>-6.850161e+05</td>\n",
       "      <td>-64026.990930</td>\n",
       "      <td>-23079.031060</td>\n",
       "    </tr>\n",
       "    <tr>\n",
       "      <th>28</th>\n",
       "      <td>-6.847949e+05</td>\n",
       "      <td>-63916.024537</td>\n",
       "      <td>-26807.344882</td>\n",
       "    </tr>\n",
       "    <tr>\n",
       "      <th>29</th>\n",
       "      <td>-6.846171e+05</td>\n",
       "      <td>-63879.247416</td>\n",
       "      <td>-7770.855133</td>\n",
       "    </tr>\n",
       "    <tr>\n",
       "      <th>...</th>\n",
       "      <td>...</td>\n",
       "      <td>...</td>\n",
       "      <td>...</td>\n",
       "    </tr>\n",
       "    <tr>\n",
       "      <th>1289</th>\n",
       "      <td>2.512119e+06</td>\n",
       "      <td>124138.342949</td>\n",
       "      <td>2158.464006</td>\n",
       "    </tr>\n",
       "    <tr>\n",
       "      <th>1290</th>\n",
       "      <td>1.818277e+06</td>\n",
       "      <td>156937.232152</td>\n",
       "      <td>-5293.159877</td>\n",
       "    </tr>\n",
       "    <tr>\n",
       "      <th>1291</th>\n",
       "      <td>2.770914e+06</td>\n",
       "      <td>113932.088920</td>\n",
       "      <td>8893.291360</td>\n",
       "    </tr>\n",
       "    <tr>\n",
       "      <th>1292</th>\n",
       "      <td>2.915683e+06</td>\n",
       "      <td>107110.354578</td>\n",
       "      <td>37397.409461</td>\n",
       "    </tr>\n",
       "    <tr>\n",
       "      <th>1293</th>\n",
       "      <td>1.393414e+06</td>\n",
       "      <td>177371.630627</td>\n",
       "      <td>-978.668299</td>\n",
       "    </tr>\n",
       "    <tr>\n",
       "      <th>1294</th>\n",
       "      <td>2.941690e+06</td>\n",
       "      <td>106106.216249</td>\n",
       "      <td>26346.730223</td>\n",
       "    </tr>\n",
       "    <tr>\n",
       "      <th>1295</th>\n",
       "      <td>2.940804e+06</td>\n",
       "      <td>107476.782648</td>\n",
       "      <td>6488.397847</td>\n",
       "    </tr>\n",
       "    <tr>\n",
       "      <th>1296</th>\n",
       "      <td>2.752002e+06</td>\n",
       "      <td>116326.544048</td>\n",
       "      <td>92.420235</td>\n",
       "    </tr>\n",
       "    <tr>\n",
       "      <th>1297</th>\n",
       "      <td>1.332767e+06</td>\n",
       "      <td>181832.598315</td>\n",
       "      <td>-4773.072845</td>\n",
       "    </tr>\n",
       "    <tr>\n",
       "      <th>1298</th>\n",
       "      <td>2.244745e+06</td>\n",
       "      <td>140079.621748</td>\n",
       "      <td>3943.354300</td>\n",
       "    </tr>\n",
       "    <tr>\n",
       "      <th>1299</th>\n",
       "      <td>2.244768e+06</td>\n",
       "      <td>140071.590058</td>\n",
       "      <td>8303.423201</td>\n",
       "    </tr>\n",
       "    <tr>\n",
       "      <th>1300</th>\n",
       "      <td>1.818423e+06</td>\n",
       "      <td>160082.324669</td>\n",
       "      <td>-5131.811078</td>\n",
       "    </tr>\n",
       "    <tr>\n",
       "      <th>1301</th>\n",
       "      <td>2.300960e+05</td>\n",
       "      <td>232975.876517</td>\n",
       "      <td>10619.596678</td>\n",
       "    </tr>\n",
       "    <tr>\n",
       "      <th>1302</th>\n",
       "      <td>-4.386574e+05</td>\n",
       "      <td>263815.255180</td>\n",
       "      <td>2987.878121</td>\n",
       "    </tr>\n",
       "    <tr>\n",
       "      <th>1303</th>\n",
       "      <td>1.827898e+06</td>\n",
       "      <td>159808.546546</td>\n",
       "      <td>-3176.455643</td>\n",
       "    </tr>\n",
       "    <tr>\n",
       "      <th>1304</th>\n",
       "      <td>3.158590e+06</td>\n",
       "      <td>99004.852473</td>\n",
       "      <td>8595.132570</td>\n",
       "    </tr>\n",
       "    <tr>\n",
       "      <th>1305</th>\n",
       "      <td>3.072742e+06</td>\n",
       "      <td>103139.514580</td>\n",
       "      <td>1811.275632</td>\n",
       "    </tr>\n",
       "    <tr>\n",
       "      <th>1306</th>\n",
       "      <td>3.038911e+06</td>\n",
       "      <td>105032.308275</td>\n",
       "      <td>4522.129816</td>\n",
       "    </tr>\n",
       "    <tr>\n",
       "      <th>1307</th>\n",
       "      <td>3.190605e+06</td>\n",
       "      <td>98705.094882</td>\n",
       "      <td>23940.502623</td>\n",
       "    </tr>\n",
       "    <tr>\n",
       "      <th>1308</th>\n",
       "      <td>3.255638e+06</td>\n",
       "      <td>96244.624284</td>\n",
       "      <td>12028.920607</td>\n",
       "    </tr>\n",
       "    <tr>\n",
       "      <th>1309</th>\n",
       "      <td>1.813128e+06</td>\n",
       "      <td>163333.474392</td>\n",
       "      <td>9411.969744</td>\n",
       "    </tr>\n",
       "    <tr>\n",
       "      <th>1310</th>\n",
       "      <td>1.813130e+06</td>\n",
       "      <td>163446.382026</td>\n",
       "      <td>3218.852765</td>\n",
       "    </tr>\n",
       "    <tr>\n",
       "      <th>1311</th>\n",
       "      <td>1.348314e+06</td>\n",
       "      <td>184945.035831</td>\n",
       "      <td>-1912.157814</td>\n",
       "    </tr>\n",
       "    <tr>\n",
       "      <th>1312</th>\n",
       "      <td>2.512512e+06</td>\n",
       "      <td>132766.993388</td>\n",
       "      <td>487.181564</td>\n",
       "    </tr>\n",
       "    <tr>\n",
       "      <th>1313</th>\n",
       "      <td>-3.213566e+04</td>\n",
       "      <td>251108.510812</td>\n",
       "      <td>-1340.835934</td>\n",
       "    </tr>\n",
       "    <tr>\n",
       "      <th>1314</th>\n",
       "      <td>2.245052e+06</td>\n",
       "      <td>146728.959071</td>\n",
       "      <td>3838.975289</td>\n",
       "    </tr>\n",
       "    <tr>\n",
       "      <th>1315</th>\n",
       "      <td>2.245068e+06</td>\n",
       "      <td>146752.739390</td>\n",
       "      <td>2992.938567</td>\n",
       "    </tr>\n",
       "    <tr>\n",
       "      <th>1316</th>\n",
       "      <td>1.828369e+06</td>\n",
       "      <td>169665.985884</td>\n",
       "      <td>-7312.745024</td>\n",
       "    </tr>\n",
       "    <tr>\n",
       "      <th>1317</th>\n",
       "      <td>1.410321e+06</td>\n",
       "      <td>189456.544247</td>\n",
       "      <td>-5803.744646</td>\n",
       "    </tr>\n",
       "    <tr>\n",
       "      <th>1318</th>\n",
       "      <td>1.289072e+06</td>\n",
       "      <td>195780.499326</td>\n",
       "      <td>-4785.252522</td>\n",
       "    </tr>\n",
       "  </tbody>\n",
       "</table>\n",
       "<p>1319 rows × 3 columns</p>\n",
       "</div>"
      ],
      "text/plain": [
       "                 0              1             2\n",
       "0     1.706391e+06 -179900.335948 -19397.863278\n",
       "1    -6.934697e+05  -69549.568853   -805.510761\n",
       "2    -6.942771e+05  -69234.402666 -12003.685850\n",
       "3    -6.926962e+05  -69036.663883  -9789.315067\n",
       "4    -6.922573e+05  -68947.908479 -15127.958837\n",
       "5    -6.917180e+05  -68785.982355 -21726.164557\n",
       "6    -6.916646e+05  -68828.867033 -12945.193476\n",
       "7    -6.912302e+05  -68757.981539  -4663.466440\n",
       "8     1.499268e+06 -169252.163314  -6867.592738\n",
       "9    -6.910150e+05  -68624.142437   1207.569109\n",
       "10   -6.905048e+05  -68339.297695  -4644.767490\n",
       "11    1.473687e+06 -167669.804185 -14103.692440\n",
       "12   -6.901153e+05  -68328.563823 -14771.076752\n",
       "13   -6.899141e+05  -68255.693242 -22981.797633\n",
       "14   -6.895374e+05  -68433.772024   1954.125853\n",
       "15   -6.884692e+05  -68185.025153   8953.710786\n",
       "16    1.779854e+06 -181291.180570   2227.390280\n",
       "17    1.498315e+06 -167548.851564  -2622.221326\n",
       "18    1.694586e+06 -176284.695948  33872.863851\n",
       "19   -6.870167e+05  -66092.123396  -4342.829848\n",
       "20    1.466535e+06 -164944.663850    319.589509\n",
       "21    1.302431e+06 -156604.482338  -9729.577113\n",
       "22    1.268858e+06 -155057.989337   7512.429955\n",
       "23   -8.369208e+04  -92606.588686  -3699.544104\n",
       "24    1.375102e+06 -159414.945817  -9359.975992\n",
       "25   -6.855922e+05  -64481.896068 -21013.849863\n",
       "26   -6.856019e+05  -64401.087415 -13726.542430\n",
       "27   -6.850161e+05  -64026.990930 -23079.031060\n",
       "28   -6.847949e+05  -63916.024537 -26807.344882\n",
       "29   -6.846171e+05  -63879.247416  -7770.855133\n",
       "...            ...            ...           ...\n",
       "1289  2.512119e+06  124138.342949   2158.464006\n",
       "1290  1.818277e+06  156937.232152  -5293.159877\n",
       "1291  2.770914e+06  113932.088920   8893.291360\n",
       "1292  2.915683e+06  107110.354578  37397.409461\n",
       "1293  1.393414e+06  177371.630627   -978.668299\n",
       "1294  2.941690e+06  106106.216249  26346.730223\n",
       "1295  2.940804e+06  107476.782648   6488.397847\n",
       "1296  2.752002e+06  116326.544048     92.420235\n",
       "1297  1.332767e+06  181832.598315  -4773.072845\n",
       "1298  2.244745e+06  140079.621748   3943.354300\n",
       "1299  2.244768e+06  140071.590058   8303.423201\n",
       "1300  1.818423e+06  160082.324669  -5131.811078\n",
       "1301  2.300960e+05  232975.876517  10619.596678\n",
       "1302 -4.386574e+05  263815.255180   2987.878121\n",
       "1303  1.827898e+06  159808.546546  -3176.455643\n",
       "1304  3.158590e+06   99004.852473   8595.132570\n",
       "1305  3.072742e+06  103139.514580   1811.275632\n",
       "1306  3.038911e+06  105032.308275   4522.129816\n",
       "1307  3.190605e+06   98705.094882  23940.502623\n",
       "1308  3.255638e+06   96244.624284  12028.920607\n",
       "1309  1.813128e+06  163333.474392   9411.969744\n",
       "1310  1.813130e+06  163446.382026   3218.852765\n",
       "1311  1.348314e+06  184945.035831  -1912.157814\n",
       "1312  2.512512e+06  132766.993388    487.181564\n",
       "1313 -3.213566e+04  251108.510812  -1340.835934\n",
       "1314  2.245052e+06  146728.959071   3838.975289\n",
       "1315  2.245068e+06  146752.739390   2992.938567\n",
       "1316  1.828369e+06  169665.985884  -7312.745024\n",
       "1317  1.410321e+06  189456.544247  -5803.744646\n",
       "1318  1.289072e+06  195780.499326  -4785.252522\n",
       "\n",
       "[1319 rows x 3 columns]"
      ]
     },
     "execution_count": 83,
     "metadata": {},
     "output_type": "execute_result"
    }
   ],
   "source": [
    "T3"
   ]
  },
  {
   "cell_type": "code",
   "execution_count": 33,
   "metadata": {},
   "outputs": [
    {
     "name": "stdout",
     "output_type": "stream",
     "text": [
      "[3 0 0 ... 3 3 3]\n",
      "[3 0 0 ... 3 3 3]\n"
     ]
    }
   ],
   "source": [
    "print(kmeans.labels_)\n",
    "print(clustering.labels_)"
   ]
  },
  {
   "cell_type": "code",
   "execution_count": 31,
   "metadata": {},
   "outputs": [
    {
     "data": {
      "text/plain": [
       "1.0"
      ]
     },
     "execution_count": 31,
     "metadata": {},
     "output_type": "execute_result"
    }
   ],
   "source": [
    "from sklearn.metrics import accuracy_score\n",
    "accuracy_score(kmeans.labels_,clustering.labels_)"
   ]
  },
  {
   "cell_type": "code",
   "execution_count": null,
   "metadata": {},
   "outputs": [],
   "source": []
  }
 ],
 "metadata": {
  "kernelspec": {
   "display_name": "Python 3",
   "language": "python",
   "name": "python3"
  },
  "language_info": {
   "codemirror_mode": {
    "name": "ipython",
    "version": 3
   },
   "file_extension": ".py",
   "mimetype": "text/x-python",
   "name": "python",
   "nbconvert_exporter": "python",
   "pygments_lexer": "ipython3",
   "version": "3.5.2"
  }
 },
 "nbformat": 4,
 "nbformat_minor": 2
}
